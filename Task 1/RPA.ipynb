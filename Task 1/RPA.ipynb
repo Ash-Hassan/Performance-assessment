{
 "cells": [
  {
   "cell_type": "code",
   "execution_count": 1,
   "id": "a2981133",
   "metadata": {},
   "outputs": [],
   "source": [
    "from selenium import webdriver\n",
    "from selenium.common.exceptions import TimeoutException\n",
    "from selenium.common.exceptions import UnexpectedAlertPresentException\n",
    "from webdriver_manager.chrome import ChromeDriverManager\n",
    "from selenium.webdriver.support.ui import WebDriverWait\n",
    "from selenium.webdriver.support import expected_conditions as EC\n",
    "from selenium.webdriver.common.by import By\n",
    "from selenium.webdriver.chrome.options import Options\n",
    "import time"
   ]
  },
  {
   "cell_type": "code",
   "execution_count": 2,
   "id": "4fd7f60e",
   "metadata": {},
   "outputs": [],
   "source": [
    "chrome_options = Options()\n",
    "chrome_options.add_argument(\"--disable-popup-blocking\")\n",
    "chrome_options.add_experimental_option('prefs',{\n",
    "    \"download.prompt_from_download\":False,\n",
    "    \"plugins.always_open_pdf_externally\":True,\n",
    "    \"download.open_pdf_in_system_reader\":False,\n",
    "    \"profile.default_content_settings.popups\":0\n",
    "})"
   ]
  },
  {
   "cell_type": "code",
   "execution_count": 3,
   "id": "d4be05f6",
   "metadata": {},
   "outputs": [],
   "source": [
    "driver = webdriver.Chrome(options=chrome_options,service=webdriver.chrome.service.Service(ChromeDriverManager(version=\"114.0.5735.90\").install()))"
   ]
  },
  {
   "cell_type": "code",
   "execution_count": 4,
   "id": "88602338",
   "metadata": {},
   "outputs": [],
   "source": [
    "driver.set_page_load_timeout(50)"
   ]
  },
  {
   "cell_type": "code",
   "execution_count": 5,
   "id": "9adf5145",
   "metadata": {},
   "outputs": [],
   "source": [
    "try:\n",
    "    driver.get(\"https://cloud.eais.go.kr/\")\n",
    "except TimeoutException as ex:\n",
    "    driver.execute_script(\"window.stop();\")"
   ]
  },
  {
   "cell_type": "code",
   "execution_count": 6,
   "id": "605cde20",
   "metadata": {},
   "outputs": [
    {
     "data": {
      "text/plain": [
       "<selenium.webdriver.support.wait.WebDriverWait (session=\"87bcbf057c39cee008524962b40815ae\")>"
      ]
     },
     "execution_count": 6,
     "metadata": {},
     "output_type": "execute_result"
    }
   ],
   "source": [
    "element = WebDriverWait(driver, 10).until(EC.presence_of_element_located((By.CLASS_NAME,\"btnLogin\")))\n",
    "\n",
    "login=driver.find_element(By.CLASS_NAME,'btnLogin')\n",
    "login.click()\n",
    "WebDriverWait(driver, 10)"
   ]
  },
  {
   "cell_type": "code",
   "execution_count": 7,
   "id": "81ddc61c",
   "metadata": {},
   "outputs": [],
   "source": [
    "element = WebDriverWait(driver, 10).until(EC.presence_of_element_located((By.ID, \"membId\")))\n",
    "login_field=driver.find_element(By.ID,'membId')\n",
    "login_field.send_keys(\"sj24sj\")"
   ]
  },
  {
   "cell_type": "code",
   "execution_count": 8,
   "id": "fe06255b",
   "metadata": {},
   "outputs": [],
   "source": [
    "pwd_field=driver.find_element(By.ID,'pwd')\n",
    "pwd_field.send_keys(\"sj6154sj!!\")\n",
    "pwd_field.send_keys(webdriver.common.keys.Keys.ENTER)\n",
    "time.sleep(5)"
   ]
  },
  {
   "cell_type": "code",
   "execution_count": 9,
   "id": "e82ad51c",
   "metadata": {},
   "outputs": [],
   "source": [
    "try:\n",
    "    driver.get(\"https://cloud.eais.go.kr/\")\n",
    "except UnexpectedAlertPresentException:\n",
    "    driver.switchTo().alert().accept()\n",
    "except TimeoutException:\n",
    "    driver.execute_script(\"window.stop();\")"
   ]
  },
  {
   "cell_type": "code",
   "execution_count": 10,
   "id": "9e1dcb38",
   "metadata": {},
   "outputs": [],
   "source": [
    "# No waiting issue\n",
    "try:\n",
    "    ledger=driver.find_element(By.XPATH,'//*[@id=\"section1\"]/div/div[1]/div[1]/div[1]/a')\n",
    "    ledger.click()\n",
    "except TimeoutException:\n",
    "    driver.execute_script(\"window.stop();\")\n",
    "    ledger=driver.find_element(By.XPATH,'//*[@id=\"section1\"]/div/div[1]/div[1]/div[1]/a')\n",
    "    ledger.click()"
   ]
  },
  {
   "cell_type": "code",
   "execution_count": 11,
   "id": "a87d4930",
   "metadata": {},
   "outputs": [],
   "source": [
    "element = WebDriverWait(driver, 10).until(EC.presence_of_element_located((By.CLASS_NAME,'btnAddrSrch')))\n",
    "\n",
    "addr=driver.find_element(By.CLASS_NAME,'btnAddrSrch')\n",
    "addr.click()"
   ]
  },
  {
   "cell_type": "code",
   "execution_count": 12,
   "id": "dba2495a",
   "metadata": {},
   "outputs": [],
   "source": [
    "srch_keyword=driver.find_element(By.ID,'keyword')\n",
    "srch_keyword.send_keys(\"경기도 고양시 일산동구 강석로 152 강촌마을아파트 제701동 제2층 제202호\")"
   ]
  },
  {
   "cell_type": "code",
   "execution_count": 13,
   "id": "ade7a7ab",
   "metadata": {},
   "outputs": [],
   "source": [
    "time.sleep(5)\n",
    "srch_btn=driver.find_element(By.XPATH,'//*[@id=\"container\"]/div[2]/div/div[2]/div[1]/div[1]/div[3]/div/div/button')\n",
    "srch_btn.click()"
   ]
  },
  {
   "cell_type": "code",
   "execution_count": 14,
   "id": "15820e7b",
   "metadata": {},
   "outputs": [],
   "source": [
    "element = WebDriverWait(driver, 10).until(EC.presence_of_element_located((By.XPATH,'//*[@class=\"addrList\"]/ul/li/button')))\n",
    "srch=driver.find_element(By.XPATH,'//*[@class=\"addrList\"]/ul/li/button')\n",
    "srch.click()"
   ]
  },
  {
   "cell_type": "code",
   "execution_count": 15,
   "id": "7b727bc3",
   "metadata": {},
   "outputs": [],
   "source": [
    "time.sleep(5)\n",
    "element = WebDriverWait(driver, 10).until(EC.presence_of_element_located((By.CLASS_NAME,'st2')))\n",
    "select=driver.find_element(By.CLASS_NAME,'st2')\n",
    "select.click()"
   ]
  },
  {
   "cell_type": "code",
   "execution_count": 16,
   "id": "88bb31be",
   "metadata": {},
   "outputs": [],
   "source": [
    "time.sleep(5)\n",
    "element = WebDriverWait(driver, 10).until(EC.presence_of_element_located((By.XPATH,'//*[@comp-id=\"208\"]')))\n",
    "select_point=driver.find_element(By.XPATH,'//*[@comp-id=\"208\"]')\n",
    "select_point.click()"
   ]
  },
  {
   "cell_type": "code",
   "execution_count": 17,
   "id": "14e9ea68",
   "metadata": {},
   "outputs": [],
   "source": [
    "addCart=driver.find_element(By.CLASS_NAME,'btnAddCart')\n",
    "addCart.click()\n",
    "element = WebDriverWait(driver, 5)"
   ]
  },
  {
   "cell_type": "code",
   "execution_count": 19,
   "id": "1bc02e62",
   "metadata": {},
   "outputs": [],
   "source": [
    "time.sleep(5)\n",
    "element = WebDriverWait(driver, 10).until(EC.presence_of_element_located((By.CLASS_NAME,'btnSubmit')))\n",
    "\n",
    "submit=driver.find_element(By.CLASS_NAME,'btnSubmit')\n",
    "submit.click()\n",
    "element = WebDriverWait(driver, 5)"
   ]
  },
  {
   "cell_type": "code",
   "execution_count": 20,
   "id": "c41a4d7a",
   "metadata": {},
   "outputs": [],
   "source": [
    "time.sleep(5)\n",
    "element = WebDriverWait(driver, 10).until(EC.presence_of_element_located((By.CLASS_NAME,'btnNext')))\n",
    "\n",
    "btn_next=driver.find_element(By.CLASS_NAME,'btnNext')\n",
    "btn_next.click()\n",
    "element = WebDriverWait(driver, 5)"
   ]
  },
  {
   "cell_type": "code",
   "execution_count": 21,
   "id": "28ef8d3d",
   "metadata": {},
   "outputs": [],
   "source": [
    "time.sleep(3)\n",
    "element = WebDriverWait(driver, 10).until(EC.presence_of_element_located((By.LINK_TEXT,'발급')))\n",
    "\n",
    "btn_dwnld=driver.find_element(By.LINK_TEXT,'발급')\n",
    "btn_dwnld.click()"
   ]
  },
  {
   "cell_type": "code",
   "execution_count": 22,
   "id": "1b3c73cd",
   "metadata": {},
   "outputs": [],
   "source": [
    "time.sleep(3)\n",
    "og_window=driver.window_handles[0]\n",
    "new_window=driver.window_handles[1]\n",
    "driver.switch_to.window(new_window)"
   ]
  },
  {
   "cell_type": "code",
   "execution_count": 23,
   "id": "a9aa1f69",
   "metadata": {},
   "outputs": [],
   "source": [
    "time.sleep(3)\n",
    "btn_prnt=driver.find_element(By.CLASS_NAME,'report_menu_print_button ')\n",
    "btn_prnt.click()\n",
    "element = WebDriverWait(driver, 5)"
   ]
  },
  {
   "cell_type": "code",
   "execution_count": 24,
   "id": "c986eee7",
   "metadata": {},
   "outputs": [],
   "source": [
    "time.sleep(3)\n",
    "btn_prnt_dwnld=driver.find_element(By.CLASS_NAME,'report_view_button')\n",
    "btn_prnt_dwnld.click()"
   ]
  },
  {
   "cell_type": "code",
   "execution_count": 25,
   "id": "2cdfafc4",
   "metadata": {},
   "outputs": [],
   "source": [
    "time.sleep(3)\n",
    "btn_prnt_dwnld=driver.find_element(By.CLASS_NAME,'report_view_button')\n",
    "btn_prnt_dwnld.click()\n",
    "time.sleep(3)"
   ]
  },
  {
   "cell_type": "code",
   "execution_count": 26,
   "id": "bd54a2fd",
   "metadata": {},
   "outputs": [],
   "source": [
    "driver.close()"
   ]
  },
  {
   "cell_type": "code",
   "execution_count": 27,
   "id": "79877c12",
   "metadata": {},
   "outputs": [],
   "source": [
    "driver.switch_to.window(og_window)"
   ]
  },
  {
   "cell_type": "code",
   "execution_count": 28,
   "id": "fe85f784",
   "metadata": {},
   "outputs": [],
   "source": [
    "driver.close()"
   ]
  },
  {
   "cell_type": "code",
   "execution_count": null,
   "id": "bee80c89",
   "metadata": {},
   "outputs": [],
   "source": []
  }
 ],
 "metadata": {
  "kernelspec": {
   "display_name": "Python 3 (ipykernel)",
   "language": "python",
   "name": "python3"
  },
  "language_info": {
   "codemirror_mode": {
    "name": "ipython",
    "version": 3
   },
   "file_extension": ".py",
   "mimetype": "text/x-python",
   "name": "python",
   "nbconvert_exporter": "python",
   "pygments_lexer": "ipython3",
   "version": "3.10.9"
  }
 },
 "nbformat": 4,
 "nbformat_minor": 5
}
